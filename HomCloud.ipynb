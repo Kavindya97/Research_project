{
 "cells": [
  {
   "cell_type": "code",
   "execution_count": 22,
   "id": "93ac4880",
   "metadata": {
    "scrolled": true
   },
   "outputs": [
    {
     "name": "stdout",
     "output_type": "stream",
     "text": [
      "processing ./txt/1aou.txt ...\n"
     ]
    }
   ],
   "source": [
    "!python ./src1/xyz2diagram.py ./txt/1aou.txt -n 3"
   ]
  },
  {
   "cell_type": "code",
   "execution_count": 23,
   "id": "dabd6158",
   "metadata": {
    "scrolled": false
   },
   "outputs": [
    {
     "name": "stdout",
     "output_type": "stream",
     "text": [
      "Welcome to the CBC MILP Solver \n",
      "Version: 2.10.3 \n",
      "Build Date: Dec 15 2019 \n",
      "\n",
      "command line - C:\\Users\\Kavindya\\anaconda3\\lib\\site-packages\\pulp\\apis\\..\\solverdir\\cbc\\win\\64\\cbc.exe C:\\Users\\Kavindya\\AppData\\Local\\Temp\\ac8b40399762489ca598e558ada157ca-pulp.mps timeMode elapsed branch printingOptions all solution C:\\Users\\Kavindya\\AppData\\Local\\Temp\\ac8b40399762489ca598e558ada157ca-pulp.sol (default strategy 1)\n",
      "At line 2 NAME          MODEL\n",
      "At line 3 ROWS\n",
      "At line 8 COLUMNS\n",
      "At line 15 RHS\n",
      "At line 19 BOUNDS\n",
      "At line 23 ENDATA\n",
      "Problem MODEL has 3 rows, 2 columns and 5 elements\n",
      "Coin0008I MODEL read with 0 errors\n",
      "Option for timeMode changed from cpu to elapsed\n",
      "Presolve 0 (-3) rows, 0 (-2) columns and 0 (-5) elements\n",
      "Empty problem - 0 rows, 0 columns and 0 elements\n",
      "Optimal - objective value 1\n",
      "After Postsolve, objective 1, infeasibilities - dual 0 (0), primal 0 (0)\n",
      "Optimal objective 1 - 0 iterations time 0.002, Presolve 0.00\n",
      "Option for printingOptions changed from normal to all\n",
      "Total time (CPU seconds):       0.00   (Wallclock seconds):       0.00\n",
      "\n",
      "Processing ./out/output_a...\n"
     ]
    }
   ],
   "source": [
    "!python ./src1/diag2cycles.py -X 0:100 -Y 2:200 -d 2 ./out/output_a"
   ]
  },
  {
   "cell_type": "code",
   "execution_count": 26,
   "id": "8c0ea163",
   "metadata": {},
   "outputs": [],
   "source": [
    "!python ./src1/cycleMerge.py -w lt ./out/output_a.complex2 > ./out/tmpa.dat"
   ]
  },
  {
   "cell_type": "code",
   "execution_count": 28,
   "id": "360598e7",
   "metadata": {},
   "outputs": [
    {
     "name": "stdout",
     "output_type": "stream",
     "text": [
      "5.670038658510278065e-03 6.313196954029022534e-03 0.000000000000000000e+00 0.000000000000000000e+00 3.040745893583129012e-03 7.906194743947032519e-03 7.496633775303663660e-04 1.190356660947873091e-03 1.751971549801789553e-03 1.576566349917740348e-03\n"
     ]
    },
    {
     "name": "stderr",
     "output_type": "stream",
     "text": [
      "C:\\Users\\Kavindya\\anaconda3\\lib\\site-packages\\sklearn\\decomposition\\_nmf.py:312: FutureWarning: The 'init' value, when 'init=None' and n_components is less than n_samples and n_features, will be changed from 'nndsvd' to 'nndsvda' in 1.1 (renaming of 0.26).\n",
      "  warnings.warn((\"The 'init' value, when 'init=None' and \"\n"
     ]
    }
   ],
   "source": [
    "!python ./src1/dwmatrixDecomposition.py -n 10 ./out/tmpa.dat"
   ]
  },
  {
   "cell_type": "code",
   "execution_count": null,
   "id": "95fe3bc0",
   "metadata": {},
   "outputs": [],
   "source": []
  }
 ],
 "metadata": {
  "kernelspec": {
   "display_name": "Python 3",
   "language": "python",
   "name": "python3"
  },
  "language_info": {
   "codemirror_mode": {
    "name": "ipython",
    "version": 3
   },
   "file_extension": ".py",
   "mimetype": "text/x-python",
   "name": "python",
   "nbconvert_exporter": "python",
   "pygments_lexer": "ipython3",
   "version": "3.8.8"
  }
 },
 "nbformat": 4,
 "nbformat_minor": 5
}
